{
 "cells": [
  {
   "cell_type": "code",
   "execution_count": 1,
   "metadata": {},
   "outputs": [],
   "source": [
    "import numpy as np\n",
    "import tensorflow as tf\n",
    "from tensorflow import keras\n",
    "from tensorflow.keras.layers import Conv2D, MaxPooling2D, Flatten, Dense, BatchNormalization\n",
    "from tensorflow.keras.applications import InceptionV3\n",
    "from tensorflow.keras.models import Model\n",
    "from tensorflow.keras.preprocessing.image import ImageDataGenerator\n",
    "from tensorflow.keras.callbacks import LearningRateScheduler\n",
    "from sklearn.metrics import classification_report\n",
    "import matplotlib.pyplot as plt\n",
    "import seaborn as sns\n",
    "from sklearn.metrics import confusion_matrix"
   ]
  },
  {
   "cell_type": "code",
   "execution_count": 2,
   "metadata": {},
   "outputs": [],
   "source": [
    "bs = 32  # Batch size\n",
    "iz = 222  # Image size"
   ]
  },
  {
   "cell_type": "code",
   "execution_count": 3,
   "metadata": {},
   "outputs": [],
   "source": [
    "train_data_dir = r'D:\\Git Projects\\Peppermint-Identification-and-Classification-Model\\Classification\\Data\\train'\n",
    "validation_data_dir = r'D:\\Git Projects\\Peppermint-Identification-and-Classification-Model\\Classification\\Data\\validation'\n",
    "test_data_dir = r'D:\\Git Projects\\Peppermint-Identification-and-Classification-Model\\Classification\\Data\\test'"
   ]
  },
  {
   "cell_type": "code",
   "execution_count": 5,
   "metadata": {},
   "outputs": [],
   "source": [
    "# Create data generators for the training, validation, and test datasets\n",
    "train_datagen = ImageDataGenerator(\n",
    "    rescale=1./255,\n",
    "    rotation_range=40,\n",
    "    width_shift_range=0.2,\n",
    "    height_shift_range=0.2,\n",
    "    shear_range=0.2,\n",
    "    zoom_range=0.2,\n",
    "    horizontal_flip=True,\n",
    "    fill_mode='nearest'\n",
    ")\n",
    "validation_datagen = ImageDataGenerator(rescale=1./255)\n",
    "test_datagen = ImageDataGenerator(rescale=1./255)"
   ]
  },
  {
   "cell_type": "code",
   "execution_count": 6,
   "metadata": {},
   "outputs": [
    {
     "name": "stdout",
     "output_type": "stream",
     "text": [
      "Found 3772 images belonging to 4 classes.\n",
      "Found 806 images belonging to 4 classes.\n",
      "Found 806 images belonging to 4 classes.\n"
     ]
    }
   ],
   "source": [
    "# Create data generators for training, validation, and test sets\n",
    "train_generator = train_datagen.flow_from_directory(\n",
    "    train_data_dir,\n",
    "    target_size=(iz, iz),\n",
    "    batch_size=bs,\n",
    "    class_mode='categorical',\n",
    "    shuffle=True,\n",
    "    seed=16\n",
    ")\n",
    "\n",
    "validation_generator = validation_datagen.flow_from_directory(\n",
    "    validation_data_dir,\n",
    "    target_size=(iz, iz),\n",
    "    batch_size=bs,\n",
    "    class_mode='categorical',\n",
    "    shuffle=True,\n",
    "    seed=16\n",
    ")\n",
    "\n",
    "test_generator = test_datagen.flow_from_directory(\n",
    "    test_data_dir,\n",
    "    target_size=(iz, iz),\n",
    "    batch_size=bs,\n",
    "    class_mode='categorical',\n",
    "    shuffle=False\n",
    ")"
   ]
  },
  {
   "cell_type": "code",
   "execution_count": 7,
   "metadata": {},
   "outputs": [],
   "source": [
    "# Determine the number of classes from the generators\n",
    "num_classes = len(train_generator.class_indices)"
   ]
  },
  {
   "cell_type": "code",
   "execution_count": 10,
   "metadata": {},
   "outputs": [
    {
     "name": "stdout",
     "output_type": "stream",
     "text": [
      "Epoch 1/20\n",
      "118/118 [==============================] - 58s 486ms/step - loss: 4.1619 - accuracy: 0.7187 - val_loss: 22.1648 - val_accuracy: 0.3710\n",
      "Epoch 2/20\n",
      "118/118 [==============================] - 58s 492ms/step - loss: 1.0218 - accuracy: 0.7993 - val_loss: 14.4700 - val_accuracy: 0.4442\n",
      "Epoch 3/20\n",
      "118/118 [==============================] - 58s 489ms/step - loss: 0.8247 - accuracy: 0.8091 - val_loss: 22.2090 - val_accuracy: 0.4318\n",
      "Epoch 4/20\n",
      "118/118 [==============================] - 51s 433ms/step - loss: 0.6118 - accuracy: 0.8415 - val_loss: 16.8455 - val_accuracy: 0.4057\n",
      "Epoch 5/20\n",
      "118/118 [==============================] - 56s 474ms/step - loss: 0.6669 - accuracy: 0.8195 - val_loss: 5.0793 - val_accuracy: 0.4814\n",
      "Epoch 6/20\n",
      "118/118 [==============================] - 56s 476ms/step - loss: 0.6797 - accuracy: 0.8287 - val_loss: 90.2702 - val_accuracy: 0.0124\n",
      "Epoch 7/20\n",
      "118/118 [==============================] - 58s 488ms/step - loss: 0.3798 - accuracy: 0.8621 - val_loss: 1.5803 - val_accuracy: 0.4020\n",
      "Epoch 8/20\n",
      "118/118 [==============================] - 56s 474ms/step - loss: 0.3311 - accuracy: 0.8720 - val_loss: 4.7245 - val_accuracy: 0.3635\n",
      "Epoch 9/20\n",
      "118/118 [==============================] - 56s 477ms/step - loss: 0.3070 - accuracy: 0.8876 - val_loss: 0.9813 - val_accuracy: 0.6365\n",
      "Epoch 10/20\n",
      "118/118 [==============================] - 56s 472ms/step - loss: 0.2769 - accuracy: 0.8889 - val_loss: 1.5641 - val_accuracy: 0.5050\n",
      "Epoch 11/20\n",
      "118/118 [==============================] - 56s 475ms/step - loss: 0.2709 - accuracy: 0.8871 - val_loss: 1.1268 - val_accuracy: 0.7469\n",
      "Epoch 12/20\n",
      "118/118 [==============================] - 56s 472ms/step - loss: 0.3719 - accuracy: 0.8765 - val_loss: 10.8772 - val_accuracy: 0.2742\n",
      "Epoch 13/20\n",
      "118/118 [==============================] - 57s 480ms/step - loss: 0.3219 - accuracy: 0.8852 - val_loss: 10.5800 - val_accuracy: 0.3883\n",
      "Epoch 14/20\n",
      "118/118 [==============================] - 57s 477ms/step - loss: 0.2699 - accuracy: 0.8889 - val_loss: 1.1294 - val_accuracy: 0.6849\n",
      "Epoch 15/20\n",
      "118/118 [==============================] - 56s 469ms/step - loss: 0.2777 - accuracy: 0.8889 - val_loss: 0.9777 - val_accuracy: 0.5385\n",
      "Epoch 16/20\n",
      "118/118 [==============================] - 56s 474ms/step - loss: 0.2477 - accuracy: 0.9051 - val_loss: 1.8250 - val_accuracy: 0.5273\n",
      "Epoch 17/20\n",
      "118/118 [==============================] - 56s 470ms/step - loss: 0.2730 - accuracy: 0.8953 - val_loss: 0.7130 - val_accuracy: 0.7531\n",
      "Epoch 18/20\n",
      "118/118 [==============================] - 56s 474ms/step - loss: 0.2394 - accuracy: 0.9093 - val_loss: 0.2474 - val_accuracy: 0.9069\n",
      "Epoch 19/20\n",
      "118/118 [==============================] - 56s 469ms/step - loss: 0.2505 - accuracy: 0.9149 - val_loss: 2.1486 - val_accuracy: 0.5943\n",
      "Epoch 20/20\n",
      "118/118 [==============================] - 56s 471ms/step - loss: 0.2122 - accuracy: 0.9194 - val_loss: 1.2145 - val_accuracy: 0.7283\n"
     ]
    },
    {
     "data": {
      "text/plain": [
       "<keras.callbacks.History at 0x18efdd3b820>"
      ]
     },
     "execution_count": 10,
     "metadata": {},
     "output_type": "execute_result"
    }
   ],
   "source": [
    "# Create a custom Class Identification model with batch normalization and an additional convolutional layer\n",
    "class_model = keras.Sequential([\n",
    "    Conv2D(32, (3, 3), activation='relu', input_shape=(iz, iz, 3), name='class_conv1'),\n",
    "    BatchNormalization(),  # Batch Normalization Layer\n",
    "    MaxPooling2D((2, 2), name='class_pool1'),\n",
    "    Conv2D(64, (3, 3), activation='relu', name='class_conv2'),\n",
    "    BatchNormalization(),  # Batch Normalization Layer\n",
    "    MaxPooling2D((2, 2), name='class_pool2'),\n",
    "    Conv2D(128, (3, 3), activation='relu', name='class_conv3'),\n",
    "    BatchNormalization(),  # Batch Normalization Layer\n",
    "    MaxPooling2D((2, 2), name='class_pool3'),  # Additional MaxPooling Layer\n",
    "    Flatten(name='class_flatten'),\n",
    "    Dense(128, activation='relu', name='class_dense1'),\n",
    "    Dense(num_classes, activation='softmax', name='class_output')\n",
    "])\n",
    "\n",
    "# Learning Rate Scheduling\n",
    "# def learning_rate_schedule(epoch):\n",
    "#     initial_learning_rate = 0.001  # Adjust the initial learning rate as needed\n",
    "#     decay = 0.9  # Adjust the decay factor as needed\n",
    "#     lr = initial_learning_rate * (decay ** epoch)\n",
    "#     return lr\n",
    "\n",
    "# lr_scheduler = LearningRateScheduler(learning_rate_schedule)\n",
    "\n",
    "# Compile the Class Identification model\n",
    "class_model.compile(optimizer='adam', loss='categorical_crossentropy', metrics=['accuracy'])\n",
    "\n",
    "# Train the Class Identification model\n",
    "class_epochs = 20  # Increase the number of epochs\n",
    "class_model.fit(train_generator, validation_data=validation_generator, epochs=class_epochs)"
   ]
  },
  {
   "cell_type": "code",
   "execution_count": 11,
   "metadata": {},
   "outputs": [
    {
     "name": "stdout",
     "output_type": "stream",
     "text": [
      "26/26 [==============================] - 5s 169ms/step - loss: 1.1349 - accuracy: 0.7444\n",
      "Class Identification Model - Test Accuracy: 74.44%\n",
      "26/26 [==============================] - 5s 171ms/step\n"
     ]
    },
    {
     "data": {
      "image/png": "[encoded data removed]",
      "text/plain": [
       "<Figure size 800x600 with 2 Axes>"
      ]
     },
     "metadata": {},
     "output_type": "display_data"
    }
   ],
   "source": [
    "# Evaluate the Class Identification model on the test dataset\n",
    "test_loss, test_accuracy = class_model.evaluate(test_generator)\n",
    "print(\"Class Identification Model - Test Accuracy: {:.2f}%\".format(test_accuracy * 100))\n",
    "\n",
    "# Generate predictions on the test dataset\n",
    "test_predictions = class_model.predict(test_generator)\n",
    "test_pred_classes = np.argmax(test_predictions, axis=1)\n",
    "\n",
    "# Create a list of target names for Class Identification model\n",
    "class_labels = ['Dried', 'Fresh', 'Spoiled', 'Sunlight']\n",
    "\n",
    "# Initialize an empty list for true classes\n",
    "test_true_classes = test_generator.classes\n",
    "\n",
    "# Calculate the confusion matrix\n",
    "confusion_mtx = confusion_matrix(test_true_classes, test_pred_classes)\n",
    "\n",
    "# Create a heatmap for the confusion matrix\n",
    "plt.figure(figsize=(8, 6))\n",
    "sns.heatmap(confusion_mtx, annot=True, fmt='d', cmap='Blues', xticklabels=class_labels, yticklabels=class_labels)\n",
    "plt.xlabel('Predicted')\n",
    "plt.ylabel('True')\n",
    "plt.title('Confusion Matrix')\n",
    "plt.show()"
   ]
  },
  {
   "cell_type": "code",
   "execution_count": 12,
   "metadata": {},
   "outputs": [
    {
     "name": "stdout",
     "output_type": "stream",
     "text": [
      "Class Identification Model - Classification Report:\n",
      "               precision    recall  f1-score   support\n",
      "\n",
      "       Dried       0.68      0.85      0.76       282\n",
      "       Fresh       0.74      0.99      0.85       265\n",
      "     Spoiled       1.00      0.35      0.52       250\n",
      "    Sunlight       1.00      1.00      1.00         9\n",
      "\n",
      "    accuracy                           0.74       806\n",
      "   macro avg       0.85      0.80      0.78       806\n",
      "weighted avg       0.80      0.74      0.72       806\n",
      "\n"
     ]
    }
   ],
   "source": [
    "# Generate a classification report for Class Identification model\n",
    "class_report = classification_report(test_true_classes, test_pred_classes, target_names=class_labels)\n",
    "print(\"Class Identification Model - Classification Report:\\n\", class_report)"
   ]
  }
 ],
 "metadata": {
  "kernelspec": {
   "display_name": "Python 3 (ipykernel)",
   "language": "python",
   "name": "python3"
  },
  "language_info": {
   "codemirror_mode": {
    "name": "ipython",
    "version": 3
   },
   "file_extension": ".py",
   "mimetype": "text/x-python",
   "name": "python",
   "nbconvert_exporter": "python",
   "pygments_lexer": "ipython3",
   "version": "3.9.18"
  }
 },
 "nbformat": 4,
 "nbformat_minor": 4
}
